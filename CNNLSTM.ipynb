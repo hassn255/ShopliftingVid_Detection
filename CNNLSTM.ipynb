{
  "nbformat": 4,
  "nbformat_minor": 0,
  "metadata": {
    "colab": {
      "provenance": [],
      "collapsed_sections": [
        "zxJInAXV1paW"
      ],
      "gpuType": "T4"
    },
    "kernelspec": {
      "name": "python3",
      "display_name": "Python 3"
    },
    "language_info": {
      "name": "python"
    },
    "accelerator": "GPU"
  },
  "cells": [
    {
      "cell_type": "code",
      "execution_count": 2,
      "metadata": {
        "colab": {
          "base_uri": "https://localhost:8080/"
        },
        "id": "Xap22ffCVZg2",
        "outputId": "7501d5f0-b42b-42fc-f9ac-7b2ea86b3d53"
      },
      "outputs": [
        {
          "output_type": "stream",
          "name": "stdout",
          "text": [
            "Mounted at /content/drive\n"
          ]
        }
      ],
      "source": [
        "from google.colab import drive\n",
        "drive.mount('/content/drive')"
      ]
    },
    {
      "cell_type": "code",
      "source": [
        "import os\n",
        "import cv2\n",
        "import torch\n",
        "import numpy as np\n",
        "import random\n",
        "from torch.utils.data import Dataset, DataLoader, random_split\n",
        "from torchvision import transforms\n",
        "from PIL import Image\n",
        "import torch.nn as nn\n",
        "import torch.optim as optim\n",
        "from tqdm import tqdm"
      ],
      "metadata": {
        "id": "8IqiGp3PW0Li"
      },
      "execution_count": 3,
      "outputs": []
    },
    {
      "cell_type": "markdown",
      "source": [
        "# Data prepairing and preprocessing"
      ],
      "metadata": {
        "id": "iXIh4jJT1rtC"
      }
    },
    {
      "cell_type": "markdown",
      "source": [
        "## Data Object"
      ],
      "metadata": {
        "id": "P534T3qu15Xp"
      }
    },
    {
      "cell_type": "code",
      "source": [
        "# Video Dataset Definition\n",
        "\n",
        "class VideoDataset(Dataset):\n",
        "    def __init__(self, root_dir, num_frames=16, train=True):\n",
        "        self.root_dir = root_dir\n",
        "        self.classes = os.listdir(root_dir)\n",
        "        self.videos = []\n",
        "        self.num_frames = num_frames\n",
        "        self.train = train\n",
        "\n",
        "        classes = sorted(os.listdir(root_dir))\n",
        "        self.class_to_idx = {cls_name: idx for idx, cls_name in enumerate(classes)}\n",
        "\n",
        "\n",
        "        for label, class_name in enumerate(self.classes):\n",
        "            class_path = os.path.join(root_dir, class_name)\n",
        "            for file in os.listdir(class_path):\n",
        "                if file.endswith(('.mp4', '.avi', '.mov')):\n",
        "                    self.videos.append({\n",
        "                        'path': os.path.join(class_path, file),\n",
        "                        'label': label\n",
        "                    })\n",
        "\n",
        "    def __len__(self):\n",
        "        return len(self.videos)\n",
        "\n",
        "    def read_video(self, path):\n",
        "        cap = cv2.VideoCapture(path)\n",
        "        frames = []\n",
        "        while True:\n",
        "            ret, frame = cap.read()\n",
        "            if not ret:\n",
        "                break\n",
        "            frame = cv2.cvtColor(frame, cv2.COLOR_BGR2RGB)\n",
        "            frames.append(frame)\n",
        "        cap.release()\n",
        "        return frames\n",
        "\n",
        "    def sample_frames(self, frames):\n",
        "        total = len(frames)\n",
        "        if total == 0:\n",
        "            return None\n",
        "        indices = np.linspace(0, total - 1, self.num_frames, dtype=int)\n",
        "        return [frames[i] for i in indices]\n",
        "\n",
        "    def get_transform(self):\n",
        "        \"\"\"Different for train vs validation.\"\"\"\n",
        "        base = [\n",
        "            transforms.Resize((256, 256)),\n",
        "            transforms.ToTensor(),\n",
        "            transforms.Normalize(mean=[0.5, 0.5, 0.5],\n",
        "                                 std=[0.5, 0.5, 0.5])\n",
        "        ]\n",
        "\n",
        "        if not self.train:\n",
        "            return transforms.Compose(base)\n",
        "\n",
        "        # training augmentation (one per video)\n",
        "        augmentations = [\n",
        "            transforms.RandomHorizontalFlip(p=1.0),\n",
        "            transforms.ColorJitter(brightness=0.3),\n",
        "            transforms.ColorJitter(contrast=0.3),\n",
        "            transforms.RandomRotation(degrees=10),\n",
        "            None\n",
        "        ]\n",
        "        aug = random.choice(augmentations)\n",
        "        if aug is not None:\n",
        "            return transforms.Compose([aug] + base)\n",
        "        return transforms.Compose(base)\n",
        "\n",
        "    def __getitem__(self, idx):\n",
        "        video_info = self.videos[idx]\n",
        "        frames = self.read_video(video_info['path'])\n",
        "        frames = self.sample_frames(frames)\n",
        "        transform = self.get_transform()\n",
        "\n",
        "        frames = [transform(Image.fromarray(f)) for f in frames]\n",
        "        video_tensor = torch.stack(frames)  # [T, C, H, W]\n",
        "        label = torch.tensor(video_info['label'])\n",
        "        return video_tensor, label\n"
      ],
      "metadata": {
        "id": "L-Z38Bc-Wwbn"
      },
      "execution_count": 4,
      "outputs": []
    },
    {
      "cell_type": "markdown",
      "source": [],
      "metadata": {
        "id": "0n2QAwyh1z5u"
      }
    },
    {
      "cell_type": "markdown",
      "source": [
        "## Splitting & Building the data loader"
      ],
      "metadata": {
        "id": "kQfzxfvK18Ze"
      }
    },
    {
      "cell_type": "code",
      "source": [
        "#  Dataset Split (Train / Val)\n",
        "full_dataset = VideoDataset(root_dir=\"/content/drive/MyDrive/project/Shop DataSet\", num_frames=16, train=True)\n",
        "train_size = int(0.8 * len(full_dataset))\n",
        "val_size = len(full_dataset) - train_size\n",
        "\n",
        "train_dataset, val_dataset = random_split(full_dataset, [train_size, val_size])\n",
        "\n",
        "# Mark validation dataset as non-augmented\n",
        "val_dataset.dataset.train = False\n",
        "\n",
        "train_loader = DataLoader(train_dataset, batch_size=4, shuffle=True, num_workers=2)\n",
        "val_loader = DataLoader(val_dataset, batch_size=4, shuffle=False, num_workers=2)\n",
        "\n",
        "print(f\"Train: {len(train_dataset)} | Val: {len(val_dataset)}\")\n"
      ],
      "metadata": {
        "colab": {
          "base_uri": "https://localhost:8080/"
        },
        "id": "AZDVaiQOb4eA",
        "outputId": "90fa64cf-1161-4c6c-c97c-08fe270320d3"
      },
      "execution_count": 5,
      "outputs": [
        {
          "output_type": "stream",
          "name": "stdout",
          "text": [
            "Train: 481 | Val: 121\n"
          ]
        }
      ]
    },
    {
      "cell_type": "code",
      "source": [
        "print(full_dataset.class_to_idx)"
      ],
      "metadata": {
        "colab": {
          "base_uri": "https://localhost:8080/"
        },
        "id": "ghxYq6t6hsVs",
        "outputId": "15f280d4-4876-4ab6-d5d4-3762e554ac7e"
      },
      "execution_count": 6,
      "outputs": [
        {
          "output_type": "stream",
          "name": "stdout",
          "text": [
            "{'non shop lifters': 0, 'shop lifters': 1}\n"
          ]
        }
      ]
    },
    {
      "cell_type": "markdown",
      "source": [
        "## visualizing augmented videos"
      ],
      "metadata": {
        "id": "zxJInAXV1paW"
      }
    },
    {
      "cell_type": "code",
      "source": [
        "# import os\n",
        "# import cv2\n",
        "# import torch\n",
        "# import numpy as np\n",
        "# from IPython.display import HTML, display\n",
        "# from base64 import b64encode\n",
        "\n",
        "# def show_video_clip(video_tensor, label, fps=10):\n",
        "#     \"\"\"\n",
        "#     Display a video tensor inline (supports both (T, C, H, W) and (C, T, H, W))\n",
        "#     \"\"\"\n",
        "#     # Ensure it's detached from GPU\n",
        "#     video_tensor = video_tensor.detach().cpu()\n",
        "\n",
        "#     # Handle different tensor shapes\n",
        "#     if video_tensor.shape[0] == 3:  # (C, T, H, W)\n",
        "#         video_tensor = video_tensor.permute(1, 2, 3, 0)  # -> (T, H, W, C)\n",
        "#     elif video_tensor.shape[-1] != 3:  # (T, C, H, W)\n",
        "#         video_tensor = video_tensor.permute(0, 2, 3, 1)  # -> (T, H, W, C)\n",
        "\n",
        "#     # Denormalize (if normalized between -1 and 1)\n",
        "#     video_tensor = (video_tensor * 0.5 + 0.5).clamp(0, 1)\n",
        "\n",
        "#     # Convert to NumPy uint8\n",
        "#     video_np = (video_tensor.numpy() * 255).astype(np.uint8)\n",
        "\n",
        "#     # Save temporary mp4\n",
        "#     temp_path = \"/content/drive/MyDrive/project/temp_video.mp4\"\n",
        "#     out = cv2.VideoWriter(temp_path, cv2.VideoWriter_fourcc(*'mp4v'), fps, (video_np.shape[2], video_np.shape[1]))\n",
        "\n",
        "#     for frame in video_np:\n",
        "#         if frame.shape[-1] == 1:  # grayscale\n",
        "#             frame = np.repeat(frame, 3, axis=-1)\n",
        "#         out.write(cv2.cvtColor(frame, cv2.COLOR_RGB2BGR))\n",
        "#     out.release()\n",
        "\n",
        "#     # Convert to HTML video\n",
        "#     mp4 = open(temp_path, 'rb').read()\n",
        "#     data_url = \"data:video/mp4;base64,\" + b64encode(mp4).decode()\n",
        "\n",
        "#     display(HTML(f\"\"\"\n",
        "#     <video width=\"480\" height=\"360\" controls>\n",
        "#         <source src=\"{data_url}\" type=\"video/mp4\">\n",
        "#     </video>\n",
        "#     <p><b>Label:</b> {'Shoplifter' if label == 1 else 'Non-Shoplifter'}</p>\n",
        "#     \"\"\"))\n",
        "\n",
        "\n",
        "# def preview_videos(dataloader, num_videos=2):\n",
        "#     \"\"\"\n",
        "#     Preview a few video samples inline as playable videos.\n",
        "#     \"\"\"\n",
        "#     data_iter = iter(dataloader)\n",
        "#     videos, labels = next(data_iter)\n",
        "\n",
        "#     for i in range(min(num_videos, len(videos))):\n",
        "#         show_video_clip(videos[i], labels[i].item(), fps=2)\n"
      ],
      "metadata": {
        "id": "1zY1j3FUd-Hh"
      },
      "execution_count": 7,
      "outputs": []
    },
    {
      "cell_type": "code",
      "source": [
        "# preview_videos(train_loader, 2)"
      ],
      "metadata": {
        "id": "tmHWVQvhd_xk"
      },
      "execution_count": 8,
      "outputs": []
    },
    {
      "cell_type": "markdown",
      "source": [
        "# CNN + LSTM"
      ],
      "metadata": {
        "id": "ISWMDOSx1JPG"
      }
    },
    {
      "cell_type": "markdown",
      "source": [
        "## Model building"
      ],
      "metadata": {
        "id": "aU2vge4H1RY_"
      }
    },
    {
      "cell_type": "code",
      "source": [
        "class CNNLSTM(nn.Module):\n",
        "    def __init__(self,hidden_size = 256, num_layers = 1):\n",
        "        super(CNNLSTM, self).__init__()\n",
        "\n",
        "        self.cnn = nn.Sequential(\n",
        "            nn.Conv2d(3, 32, 3, padding=1),\n",
        "            nn.ReLU(),\n",
        "            nn.MaxPool2d(2),\n",
        "            nn.Conv2d(32, 64, 3, padding=1),\n",
        "            nn.ReLU(),\n",
        "            nn.MaxPool2d(2),\n",
        "            nn.AdaptiveAvgPool2d((4, 4))\n",
        "        )\n",
        "\n",
        "        self.lstm = nn.LSTM(\n",
        "            input_size=64*4*4,\n",
        "            hidden_size=hidden_size,\n",
        "            num_layers=num_layers,\n",
        "            batch_first=True\n",
        "        )\n",
        "        self.fc = nn.Linear(256, 1)\n",
        "\n",
        "    def forward(self, x):\n",
        "        # x: [B, T, C, H, W]\n",
        "        batch_size, seq_len, C, H, W = x.size()\n",
        "        cnn_out = []\n",
        "        for t in range(seq_len):\n",
        "            frame_feat = self.cnn(x[:, t])\n",
        "            frame_feat = frame_feat.view(batch_size, -1)\n",
        "            cnn_out.append(frame_feat)\n",
        "        cnn_out = torch.stack(cnn_out, dim=1)  # [B, T, features]\n",
        "        lstm_out, _ = self.lstm(cnn_out)\n",
        "        out = self.fc(lstm_out[:, -1, :])\n",
        "        return out.squeeze(1)"
      ],
      "metadata": {
        "id": "BvL_uDOic8m9"
      },
      "execution_count": 12,
      "outputs": []
    },
    {
      "cell_type": "markdown",
      "source": [
        "## Training loop function"
      ],
      "metadata": {
        "id": "ohuT_tTR1YAl"
      }
    },
    {
      "cell_type": "code",
      "source": [
        "device = torch.device(\"cuda\" if torch.cuda.is_available() else \"cpu\")\n",
        "print(device)"
      ],
      "metadata": {
        "colab": {
          "base_uri": "https://localhost:8080/"
        },
        "id": "MRmZpBvEUC7a",
        "outputId": "9f92c9c0-33a4-49c3-98d0-72b012955104"
      },
      "execution_count": 23,
      "outputs": [
        {
          "output_type": "stream",
          "name": "stdout",
          "text": [
            "cuda\n"
          ]
        }
      ]
    },
    {
      "cell_type": "code",
      "source": [
        "# Training Loop\n",
        "model = CNNLSTM()\n",
        "criterion = nn.BCEWithLogitsLoss()\n",
        "optimizer = optim.Adam(model.parameters(), lr=1e-3)\n",
        "num_epochs = 10\n",
        "model.to(device)\n",
        "def train_model(\n",
        "    model,\n",
        "    train_loader,\n",
        "    val_loader,\n",
        "    criterion,\n",
        "    optimizer,\n",
        "    num_epochs,\n",
        "    checkpoint_path=\"/content/drive/MyDrive/project/Checkpoints/best_CNN_LSTM_model.pth\"\n",
        "):\n",
        "    best_val_loss = float(\"inf\")\n",
        "\n",
        "\n",
        "    history = {\n",
        "        \"train_loss\": [],\n",
        "        \"val_loss\": [],\n",
        "        \"train_acc\": [],\n",
        "        \"val_acc\": []\n",
        "    }\n",
        "    for epoch in range(num_epochs):\n",
        "        print(f\"\\nEpoch {epoch+1}/{num_epochs}\")\n",
        "        print(\"-\" * 30)\n",
        "\n",
        "        # ---- TRAIN ----\n",
        "        model.train()\n",
        "        running_loss = 0.0\n",
        "        running_corrects = 0\n",
        "\n",
        "        for videos, labels in train_loader:\n",
        "            videos = videos.to(device)\n",
        "            labels = labels.float().to(device)\n",
        "            optimizer.zero_grad()\n",
        "            outputs = model(videos)\n",
        "            loss = criterion(outputs, labels)\n",
        "\n",
        "            preds = (torch.sigmoid(outputs) > 0.5).long()\n",
        "            running_corrects += torch.sum(preds == labels.long())\n",
        "            running_loss += loss.item() * videos.size(0)\n",
        "\n",
        "            loss.backward()\n",
        "            optimizer.step()\n",
        "\n",
        "        epoch_loss = running_loss / len(train_loader.dataset)\n",
        "        epoch_acc = running_corrects.double() / len(train_loader.dataset)\n",
        "\n",
        "        print(f\"Train Loss: {epoch_loss:.4f}  Acc: {epoch_acc:.4f}\")\n",
        "\n",
        "        # ---- VALIDATION ----\n",
        "        model.eval()\n",
        "        val_loss = 0.0\n",
        "        val_corrects = 0\n",
        "\n",
        "        with torch.no_grad():\n",
        "            for videos, labels in val_loader:\n",
        "                labels = labels.float().to(device)\n",
        "                videos = videos.to(device)\n",
        "\n",
        "                outputs = model(videos)\n",
        "                loss = criterion(outputs, labels)\n",
        "\n",
        "                preds = (torch.sigmoid(outputs) > 0.5).long()\n",
        "                val_corrects += torch.sum(preds == labels.long())\n",
        "                val_loss += loss.item() * videos.size(0)\n",
        "\n",
        "        val_loss /= len(val_loader.dataset)\n",
        "        val_acc = val_corrects.double() / len(val_loader.dataset)\n",
        "\n",
        "        # ---- STORE RESULTS ----\n",
        "        history[\"train_loss\"].append(epoch_loss)\n",
        "        history[\"val_loss\"].append(val_loss)\n",
        "        history[\"train_acc\"].append(epoch_acc.item())\n",
        "        history[\"val_acc\"].append(val_acc.item())\n",
        "\n",
        "        print(f\"Train Loss: {epoch_loss:.4f} | Acc: {epoch_acc:.4f}\")\n",
        "        print(f\"Val   Loss: {val_loss:.4f} | Acc: {val_acc:.4f}\")\n",
        "        # ---- SAVE CHECKPOINT ----\n",
        "        if val_loss < best_val_loss:\n",
        "            best_val_loss = val_loss\n",
        "            os.makedirs(os.path.dirname(checkpoint_path), exist_ok=True)\n",
        "            torch.save(model.state_dict(), checkpoint_path)\n",
        "            print(f\"✅ Best model updated and saved at: {checkpoint_path}\")\n",
        "\n",
        "    print(\"\\nTraining complete.\")\n",
        "    print(f\"Lowest Val Loss: {best_val_loss:.4f}\")\n",
        "    return model, history\n"
      ],
      "metadata": {
        "id": "r1ARJ2JMg0-m"
      },
      "execution_count": 24,
      "outputs": []
    },
    {
      "cell_type": "markdown",
      "source": [
        "## Training"
      ],
      "metadata": {
        "id": "CTWuxZ-b1kzZ"
      }
    },
    {
      "cell_type": "code",
      "source": [
        "model, history0 = train_model(model, train_loader, val_loader, criterion, optimizer, num_epochs)"
      ],
      "metadata": {
        "colab": {
          "base_uri": "https://localhost:8080/",
          "height": 703
        },
        "collapsed": true,
        "id": "l_ym0RjaozyY",
        "outputId": "a2f1d84f-15e7-4ca6-8516-1c9ddafaf772"
      },
      "execution_count": 20,
      "outputs": [
        {
          "output_type": "stream",
          "name": "stdout",
          "text": [
            "\n",
            "Epoch 1/10\n",
            "------------------------------\n",
            "Train Loss: 0.6910  Acc: 0.5301\n",
            "Train Loss: 0.6910 | Acc: 0.5301\n",
            "Val   Loss: 0.7088 | Acc: 0.5124\n",
            "✅ Best model updated and saved at: /content/drive/MyDrive/project/Checkpoints/best_CNN_LSTM_model.pth\n",
            "\n",
            "Epoch 2/10\n",
            "------------------------------\n",
            "Train Loss: 0.6904  Acc: 0.5447\n",
            "Train Loss: 0.6904 | Acc: 0.5447\n",
            "Val   Loss: 0.6942 | Acc: 0.5124\n",
            "✅ Best model updated and saved at: /content/drive/MyDrive/project/Checkpoints/best_CNN_LSTM_model.pth\n",
            "\n",
            "Epoch 3/10\n",
            "------------------------------\n",
            "Train Loss: 0.6885  Acc: 0.5447\n",
            "Train Loss: 0.6885 | Acc: 0.5447\n",
            "Val   Loss: 0.6886 | Acc: 0.5124\n",
            "✅ Best model updated and saved at: /content/drive/MyDrive/project/Checkpoints/best_CNN_LSTM_model.pth\n",
            "\n",
            "Epoch 4/10\n",
            "------------------------------\n"
          ]
        },
        {
          "output_type": "error",
          "ename": "KeyboardInterrupt",
          "evalue": "",
          "traceback": [
            "\u001b[0;31m---------------------------------------------------------------------------\u001b[0m",
            "\u001b[0;31mKeyboardInterrupt\u001b[0m                         Traceback (most recent call last)",
            "\u001b[0;32m/tmp/ipython-input-3847719366.py\u001b[0m in \u001b[0;36m<cell line: 0>\u001b[0;34m()\u001b[0m\n\u001b[0;32m----> 1\u001b[0;31m \u001b[0mmodel\u001b[0m\u001b[0;34m,\u001b[0m \u001b[0mhistory0\u001b[0m \u001b[0;34m=\u001b[0m \u001b[0mtrain_model\u001b[0m\u001b[0;34m(\u001b[0m\u001b[0mmodel\u001b[0m\u001b[0;34m,\u001b[0m \u001b[0mtrain_loader\u001b[0m\u001b[0;34m,\u001b[0m \u001b[0mval_loader\u001b[0m\u001b[0;34m,\u001b[0m \u001b[0mcriterion\u001b[0m\u001b[0;34m,\u001b[0m \u001b[0moptimizer\u001b[0m\u001b[0;34m,\u001b[0m \u001b[0mnum_epochs\u001b[0m\u001b[0;34m)\u001b[0m\u001b[0;34m\u001b[0m\u001b[0;34m\u001b[0m\u001b[0m\n\u001b[0m",
            "\u001b[0;32m/tmp/ipython-input-1273672982.py\u001b[0m in \u001b[0;36mtrain_model\u001b[0;34m(model, train_loader, val_loader, criterion, optimizer, num_epochs, checkpoint_path)\u001b[0m\n\u001b[1;32m     43\u001b[0m             \u001b[0mrunning_loss\u001b[0m \u001b[0;34m+=\u001b[0m \u001b[0mloss\u001b[0m\u001b[0;34m.\u001b[0m\u001b[0mitem\u001b[0m\u001b[0;34m(\u001b[0m\u001b[0;34m)\u001b[0m \u001b[0;34m*\u001b[0m \u001b[0mvideos\u001b[0m\u001b[0;34m.\u001b[0m\u001b[0msize\u001b[0m\u001b[0;34m(\u001b[0m\u001b[0;36m0\u001b[0m\u001b[0;34m)\u001b[0m\u001b[0;34m\u001b[0m\u001b[0;34m\u001b[0m\u001b[0m\n\u001b[1;32m     44\u001b[0m \u001b[0;34m\u001b[0m\u001b[0m\n\u001b[0;32m---> 45\u001b[0;31m             \u001b[0mloss\u001b[0m\u001b[0;34m.\u001b[0m\u001b[0mbackward\u001b[0m\u001b[0;34m(\u001b[0m\u001b[0;34m)\u001b[0m\u001b[0;34m\u001b[0m\u001b[0;34m\u001b[0m\u001b[0m\n\u001b[0m\u001b[1;32m     46\u001b[0m             \u001b[0moptimizer\u001b[0m\u001b[0;34m.\u001b[0m\u001b[0mstep\u001b[0m\u001b[0;34m(\u001b[0m\u001b[0;34m)\u001b[0m\u001b[0;34m\u001b[0m\u001b[0;34m\u001b[0m\u001b[0m\n\u001b[1;32m     47\u001b[0m \u001b[0;34m\u001b[0m\u001b[0m\n",
            "\u001b[0;32m/usr/local/lib/python3.12/dist-packages/torch/_tensor.py\u001b[0m in \u001b[0;36mbackward\u001b[0;34m(self, gradient, retain_graph, create_graph, inputs)\u001b[0m\n\u001b[1;32m    645\u001b[0m                 \u001b[0minputs\u001b[0m\u001b[0;34m=\u001b[0m\u001b[0minputs\u001b[0m\u001b[0;34m,\u001b[0m\u001b[0;34m\u001b[0m\u001b[0;34m\u001b[0m\u001b[0m\n\u001b[1;32m    646\u001b[0m             )\n\u001b[0;32m--> 647\u001b[0;31m         torch.autograd.backward(\n\u001b[0m\u001b[1;32m    648\u001b[0m             \u001b[0mself\u001b[0m\u001b[0;34m,\u001b[0m \u001b[0mgradient\u001b[0m\u001b[0;34m,\u001b[0m \u001b[0mretain_graph\u001b[0m\u001b[0;34m,\u001b[0m \u001b[0mcreate_graph\u001b[0m\u001b[0;34m,\u001b[0m \u001b[0minputs\u001b[0m\u001b[0;34m=\u001b[0m\u001b[0minputs\u001b[0m\u001b[0;34m\u001b[0m\u001b[0;34m\u001b[0m\u001b[0m\n\u001b[1;32m    649\u001b[0m         )\n",
            "\u001b[0;32m/usr/local/lib/python3.12/dist-packages/torch/autograd/__init__.py\u001b[0m in \u001b[0;36mbackward\u001b[0;34m(tensors, grad_tensors, retain_graph, create_graph, grad_variables, inputs)\u001b[0m\n\u001b[1;32m    352\u001b[0m     \u001b[0;31m# some Python versions print out the first line of a multi-line function\u001b[0m\u001b[0;34m\u001b[0m\u001b[0;34m\u001b[0m\u001b[0m\n\u001b[1;32m    353\u001b[0m     \u001b[0;31m# calls in the traceback and some print out the last line\u001b[0m\u001b[0;34m\u001b[0m\u001b[0;34m\u001b[0m\u001b[0m\n\u001b[0;32m--> 354\u001b[0;31m     _engine_run_backward(\n\u001b[0m\u001b[1;32m    355\u001b[0m         \u001b[0mtensors\u001b[0m\u001b[0;34m,\u001b[0m\u001b[0;34m\u001b[0m\u001b[0;34m\u001b[0m\u001b[0m\n\u001b[1;32m    356\u001b[0m         \u001b[0mgrad_tensors_\u001b[0m\u001b[0;34m,\u001b[0m\u001b[0;34m\u001b[0m\u001b[0;34m\u001b[0m\u001b[0m\n",
            "\u001b[0;32m/usr/local/lib/python3.12/dist-packages/torch/autograd/graph.py\u001b[0m in \u001b[0;36m_engine_run_backward\u001b[0;34m(t_outputs, *args, **kwargs)\u001b[0m\n\u001b[1;32m    827\u001b[0m         \u001b[0munregister_hooks\u001b[0m \u001b[0;34m=\u001b[0m \u001b[0m_register_logging_hooks_on_whole_graph\u001b[0m\u001b[0;34m(\u001b[0m\u001b[0mt_outputs\u001b[0m\u001b[0;34m)\u001b[0m\u001b[0;34m\u001b[0m\u001b[0;34m\u001b[0m\u001b[0m\n\u001b[1;32m    828\u001b[0m     \u001b[0;32mtry\u001b[0m\u001b[0;34m:\u001b[0m\u001b[0;34m\u001b[0m\u001b[0;34m\u001b[0m\u001b[0m\n\u001b[0;32m--> 829\u001b[0;31m         return Variable._execution_engine.run_backward(  # Calls into the C++ engine to run the backward pass\n\u001b[0m\u001b[1;32m    830\u001b[0m             \u001b[0mt_outputs\u001b[0m\u001b[0;34m,\u001b[0m \u001b[0;34m*\u001b[0m\u001b[0margs\u001b[0m\u001b[0;34m,\u001b[0m \u001b[0;34m**\u001b[0m\u001b[0mkwargs\u001b[0m\u001b[0;34m\u001b[0m\u001b[0;34m\u001b[0m\u001b[0m\n\u001b[1;32m    831\u001b[0m         )  # Calls into the C++ engine to run the backward pass\n",
            "\u001b[0;31mKeyboardInterrupt\u001b[0m: "
          ]
        }
      ]
    },
    {
      "cell_type": "code",
      "source": [
        "model, history1 = train_model(model, train_loader, val_loader, criterion, optimizer, num_epochs)"
      ],
      "metadata": {
        "colab": {
          "base_uri": "https://localhost:8080/"
        },
        "id": "IQ5YOsh1844q",
        "outputId": "3e223569-c2f2-4192-8860-591c59710569"
      },
      "execution_count": 22,
      "outputs": [
        {
          "output_type": "stream",
          "name": "stdout",
          "text": [
            "\n",
            "Epoch 1/10\n",
            "------------------------------\n",
            "Train Loss: 0.6940  Acc: 0.5364\n",
            "Train Loss: 0.6940 | Acc: 0.5364\n",
            "Val   Loss: 0.6935 | Acc: 0.5124\n",
            "✅ Best model updated and saved at: /content/drive/MyDrive/project/Checkpoints/best_CNN_LSTM_model.pth\n",
            "\n",
            "Epoch 2/10\n",
            "------------------------------\n",
            "Train Loss: 0.6899  Acc: 0.5447\n",
            "Train Loss: 0.6899 | Acc: 0.5447\n",
            "Val   Loss: 0.6942 | Acc: 0.5124\n",
            "\n",
            "Epoch 3/10\n",
            "------------------------------\n",
            "Train Loss: 0.6921  Acc: 0.5447\n",
            "Train Loss: 0.6921 | Acc: 0.5447\n",
            "Val   Loss: 0.6905 | Acc: 0.5124\n",
            "✅ Best model updated and saved at: /content/drive/MyDrive/project/Checkpoints/best_CNN_LSTM_model.pth\n",
            "\n",
            "Epoch 4/10\n",
            "------------------------------\n",
            "Train Loss: 0.6892  Acc: 0.5405\n",
            "Train Loss: 0.6892 | Acc: 0.5405\n",
            "Val   Loss: 0.6833 | Acc: 0.5124\n",
            "✅ Best model updated and saved at: /content/drive/MyDrive/project/Checkpoints/best_CNN_LSTM_model.pth\n",
            "\n",
            "Epoch 5/10\n",
            "------------------------------\n",
            "Train Loss: 0.6689  Acc: 0.5904\n",
            "Train Loss: 0.6689 | Acc: 0.5904\n",
            "Val   Loss: 0.4736 | Acc: 0.8264\n",
            "✅ Best model updated and saved at: /content/drive/MyDrive/project/Checkpoints/best_CNN_LSTM_model.pth\n",
            "\n",
            "Epoch 6/10\n",
            "------------------------------\n",
            "Train Loss: 0.6736  Acc: 0.6008\n",
            "Train Loss: 0.6736 | Acc: 0.6008\n",
            "Val   Loss: 0.6959 | Acc: 0.4876\n",
            "\n",
            "Epoch 7/10\n",
            "------------------------------\n",
            "Train Loss: 0.6756  Acc: 0.5821\n",
            "Train Loss: 0.6756 | Acc: 0.5821\n",
            "Val   Loss: 0.6663 | Acc: 0.5207\n",
            "\n",
            "Epoch 8/10\n",
            "------------------------------\n",
            "Train Loss: 0.6448  Acc: 0.6362\n",
            "Train Loss: 0.6448 | Acc: 0.6362\n",
            "Val   Loss: 0.6124 | Acc: 0.7107\n",
            "\n",
            "Epoch 9/10\n",
            "------------------------------\n",
            "Train Loss: 0.6220  Acc: 0.6757\n",
            "Train Loss: 0.6220 | Acc: 0.6757\n",
            "Val   Loss: 0.3965 | Acc: 0.8678\n",
            "✅ Best model updated and saved at: /content/drive/MyDrive/project/Checkpoints/best_CNN_LSTM_model.pth\n",
            "\n",
            "Epoch 10/10\n",
            "------------------------------\n",
            "Train Loss: 0.5421  Acc: 0.7422\n",
            "Train Loss: 0.5421 | Acc: 0.7422\n",
            "Val   Loss: 0.5524 | Acc: 0.6942\n",
            "\n",
            "Training complete.\n",
            "Lowest Val Loss: 0.3965\n"
          ]
        }
      ]
    },
    {
      "cell_type": "code",
      "source": [
        "optimizer = optim.Adam(model.parameters(), lr=1e-4) #lowering learning rate\n",
        "num_epochs = 5\n",
        "model, history2 = train_model(model, train_loader, val_loader, criterion, optimizer, num_epochs, checkpoint_path=\"/content/drive/MyDrive/project/Checkpoints/best_CNN_LSTM_model2.pth\" )"
      ],
      "metadata": {
        "colab": {
          "base_uri": "https://localhost:8080/"
        },
        "id": "eqo-MKjXpHHs",
        "outputId": "d6780a2d-10d8-47a5-82e6-d140bf3312a7"
      },
      "execution_count": 25,
      "outputs": [
        {
          "output_type": "stream",
          "name": "stdout",
          "text": [
            "\n",
            "Epoch 1/5\n",
            "------------------------------\n",
            "Train Loss: 0.5039  Acc: 0.8254\n",
            "Train Loss: 0.5039 | Acc: 0.8254\n",
            "Val   Loss: 0.3997 | Acc: 0.8678\n",
            "✅ Best model updated and saved at: /content/drive/MyDrive/project/Checkpoints/best_CNN_LSTM_model2.pth\n",
            "\n",
            "Epoch 2/5\n",
            "------------------------------\n",
            "Train Loss: 0.4495  Acc: 0.8420\n",
            "Train Loss: 0.4495 | Acc: 0.8420\n",
            "Val   Loss: 0.3442 | Acc: 0.9174\n",
            "✅ Best model updated and saved at: /content/drive/MyDrive/project/Checkpoints/best_CNN_LSTM_model2.pth\n",
            "\n",
            "Epoch 3/5\n",
            "------------------------------\n",
            "Train Loss: 0.4346  Acc: 0.8441\n",
            "Train Loss: 0.4346 | Acc: 0.8441\n",
            "Val   Loss: 0.3279 | Acc: 0.9174\n",
            "✅ Best model updated and saved at: /content/drive/MyDrive/project/Checkpoints/best_CNN_LSTM_model2.pth\n",
            "\n",
            "Epoch 4/5\n",
            "------------------------------\n",
            "Train Loss: 0.4328  Acc: 0.8420\n",
            "Train Loss: 0.4328 | Acc: 0.8420\n",
            "Val   Loss: 0.3230 | Acc: 0.9174\n",
            "✅ Best model updated and saved at: /content/drive/MyDrive/project/Checkpoints/best_CNN_LSTM_model2.pth\n",
            "\n",
            "Epoch 5/5\n",
            "------------------------------\n",
            "Train Loss: 0.4242  Acc: 0.8482\n",
            "Train Loss: 0.4242 | Acc: 0.8482\n",
            "Val   Loss: 0.3069 | Acc: 0.9174\n",
            "✅ Best model updated and saved at: /content/drive/MyDrive/project/Checkpoints/best_CNN_LSTM_model2.pth\n",
            "\n",
            "Training complete.\n",
            "Lowest Val Loss: 0.3069\n"
          ]
        }
      ]
    },
    {
      "cell_type": "code",
      "source": [
        "model, history3 = train_model(model, train_loader, val_loader, criterion, optimizer, num_epochs, checkpoint_path=\"/content/drive/MyDrive/project/Checkpoints/best_CNN_LSTM_model2.pth\" )"
      ],
      "metadata": {
        "id": "kkwgblk6bpxz"
      },
      "execution_count": null,
      "outputs": []
    },
    {
      "cell_type": "markdown",
      "source": [
        "# Evaluation"
      ],
      "metadata": {
        "id": "K3tNu28xcZj5"
      }
    },
    {
      "cell_type": "markdown",
      "source": [
        "## Loading best model"
      ],
      "metadata": {
        "id": "rUQoQnZbcceE"
      }
    },
    {
      "cell_type": "code",
      "source": [
        "best_model = CNNLSTM()\n",
        "best_model.load_state_dict(torch.load(\"/content/drive/MyDrive/project/Checkpoints/best_CNN_LSTM_model2.pth\"))\n",
        "best_model.to(device)"
      ],
      "metadata": {
        "colab": {
          "base_uri": "https://localhost:8080/"
        },
        "id": "MtZz9rBtb5t-",
        "outputId": "51982f88-6538-4efe-f507-de596c24ee12"
      },
      "execution_count": 27,
      "outputs": [
        {
          "output_type": "execute_result",
          "data": {
            "text/plain": [
              "CNNLSTM(\n",
              "  (cnn): Sequential(\n",
              "    (0): Conv2d(3, 32, kernel_size=(3, 3), stride=(1, 1), padding=(1, 1))\n",
              "    (1): ReLU()\n",
              "    (2): MaxPool2d(kernel_size=2, stride=2, padding=0, dilation=1, ceil_mode=False)\n",
              "    (3): Conv2d(32, 64, kernel_size=(3, 3), stride=(1, 1), padding=(1, 1))\n",
              "    (4): ReLU()\n",
              "    (5): MaxPool2d(kernel_size=2, stride=2, padding=0, dilation=1, ceil_mode=False)\n",
              "    (6): AdaptiveAvgPool2d(output_size=(4, 4))\n",
              "  )\n",
              "  (lstm): LSTM(1024, 256, batch_first=True)\n",
              "  (fc): Linear(in_features=256, out_features=1, bias=True)\n",
              ")"
            ]
          },
          "metadata": {},
          "execution_count": 27
        }
      ]
    },
    {
      "cell_type": "markdown",
      "source": [
        "## Evaluation"
      ],
      "metadata": {
        "id": "Dpzxw6DRgZ1m"
      }
    },
    {
      "cell_type": "code",
      "source": [
        "from sklearn.metrics import (\n",
        "    accuracy_score,\n",
        "    precision_score,\n",
        "    recall_score,\n",
        "    f1_score,\n",
        "    confusion_matrix,\n",
        "    classification_report\n",
        ")\n",
        "\n",
        "best_model.eval()\n",
        "\n",
        "all_preds = []\n",
        "all_labels = []\n",
        "\n",
        "with torch.no_grad():\n",
        "    for videos, labels in val_loader:\n",
        "        videos, labels = videos.to(device), labels.to(device)\n",
        "        outputs = model(videos)\n",
        "        preds = (torch.sigmoid(outputs) > 0.5).long()\n",
        "        all_preds.extend(preds.cpu().numpy())\n",
        "        all_labels.extend(labels.cpu().numpy())\n",
        "\n",
        "# 5️⃣ Compute metrics\n",
        "accuracy = accuracy_score(all_labels, all_preds)\n",
        "precision = precision_score(all_labels, all_preds)\n",
        "recall = recall_score(all_labels, all_preds)\n",
        "f1 = f1_score(all_labels, all_preds)\n",
        "\n",
        "print(f\"Validation Accuracy: {accuracy:.4f}\")\n",
        "print(f\"Precision: {precision:.4f}\")\n",
        "print(f\"Recall: {recall:.4f}\")\n",
        "print(f\"F1 Score: {f1:.4f}\")"
      ],
      "metadata": {
        "colab": {
          "base_uri": "https://localhost:8080/"
        },
        "id": "jFfWdMM1c2Mp",
        "outputId": "5ca03d0e-26d7-4c4a-a75b-04f05bdf8414"
      },
      "execution_count": 28,
      "outputs": [
        {
          "output_type": "stream",
          "name": "stdout",
          "text": [
            "Validation Accuracy: 0.9174\n",
            "Precision: 0.8769\n",
            "Recall: 0.9661\n",
            "F1 Score: 0.9194\n"
          ]
        }
      ]
    },
    {
      "cell_type": "code",
      "source": [
        "# 1️⃣ Confusion matrix\n",
        "cm = confusion_matrix(all_labels, all_preds)\n",
        "print(\"Confusion Matrix:\")\n",
        "print(cm)\n",
        "\n",
        "# 2️⃣ Classification report (precision, recall, f1-score)\n",
        "report = classification_report(all_labels, all_preds, target_names=[\"Non-Shoplifting\", \"Shoplifting\"])\n",
        "print(\"\\nClassification Report:\")\n",
        "print(report)"
      ],
      "metadata": {
        "colab": {
          "base_uri": "https://localhost:8080/"
        },
        "id": "uU6_-RoNc6l9",
        "outputId": "532f28c9-6006-47cd-ba53-603d50b00820"
      },
      "execution_count": 29,
      "outputs": [
        {
          "output_type": "stream",
          "name": "stdout",
          "text": [
            "Confusion Matrix:\n",
            "[[54  8]\n",
            " [ 2 57]]\n",
            "\n",
            "Classification Report:\n",
            "                 precision    recall  f1-score   support\n",
            "\n",
            "Non-Shoplifting       0.96      0.87      0.92        62\n",
            "    Shoplifting       0.88      0.97      0.92        59\n",
            "\n",
            "       accuracy                           0.92       121\n",
            "      macro avg       0.92      0.92      0.92       121\n",
            "   weighted avg       0.92      0.92      0.92       121\n",
            "\n"
          ]
        }
      ]
    },
    {
      "cell_type": "markdown",
      "source": [
        "## plotting history"
      ],
      "metadata": {
        "id": "DhBVXJLrghR_"
      }
    },
    {
      "cell_type": "code",
      "source": [
        "import matplotlib.pyplot as plt\n",
        "\n",
        "def plot_history(histories, labels):\n",
        "    \"\"\"\n",
        "    histories: list of history dictionaries\n",
        "    labels: list of labels for each history (e.g., [\"run1\", \"run2\", \"run3\"])\n",
        "    \"\"\"\n",
        "    plt.figure(figsize=(14, 6))\n",
        "\n",
        "    # ----- Plot Loss -----\n",
        "    plt.subplot(1, 2, 1)\n",
        "    for history, label in zip(histories, labels):\n",
        "        plt.plot(history[\"train_loss\"], marker='o', label=f\"{label} Train Loss\")\n",
        "        plt.plot(history[\"val_loss\"], marker='x', label=f\"{label} Val Loss\")\n",
        "    plt.title(\"Training and Validation Loss\")\n",
        "    plt.xlabel(\"Epoch\")\n",
        "    plt.ylabel(\"Loss\")\n",
        "    plt.legend()\n",
        "    plt.grid(True)\n",
        "\n",
        "    # ----- Plot Accuracy -----\n",
        "    plt.subplot(1, 2, 2)\n",
        "    for history, label in zip(histories, labels):\n",
        "        plt.plot(history[\"train_acc\"], marker='o', label=f\"{label} Train Acc\")\n",
        "        plt.plot(history[\"val_acc\"], marker='x', label=f\"{label} Val Acc\")\n",
        "    plt.title(\"Training and Validation Accuracy\")\n",
        "    plt.xlabel(\"Epoch\")\n",
        "    plt.ylabel(\"Accuracy\")\n",
        "    plt.legend()\n",
        "    plt.grid(True)\n",
        "\n",
        "    plt.tight_layout()\n",
        "    plt.show()\n",
        "\n",
        "\n",
        "# Example usage:\n",
        "plot_history([history1, history2], [\"Run1\", \"Run2\"])"
      ],
      "metadata": {
        "colab": {
          "base_uri": "https://localhost:8080/",
          "height": 473
        },
        "id": "_q-0bSIperPb",
        "outputId": "e4e01a3e-75aa-44fe-9731-ac64d7cabf96"
      },
      "execution_count": 32,
      "outputs": [
        {
          "output_type": "display_data",
          "data": {
            "text/plain": [
              "<Figure size 1400x600 with 2 Axes>"
            ],
            "image/png": "[encoded data removed]"
          },
          "metadata": {}
        }
      ]
    },
    {
      "cell_type": "code",
      "source": [],
      "metadata": {
        "id": "PokXTSwIf0uR"
      },
      "execution_count": null,
      "outputs": []
    }
  ]
}