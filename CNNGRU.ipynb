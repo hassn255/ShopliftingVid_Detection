{
 "cells": [
  {
   "cell_type": "code",
   "execution_count": 1,
   "metadata": {
    "colab": {
     "base_uri": "https://localhost:8080/"
    },
    "id": "Xap22ffCVZg2",
    "outputId": "649d5f70-ae96-4007-a55a-52a2b083b6f8"
   },
   "outputs": [
    {
     "name": "stdout",
     "output_type": "stream",
     "text": [
      "Mounted at /content/drive\n"
     ]
    }
   ],
   "source": [
    "from google.colab import drive\n",
    "drive.mount('/content/drive')"
   ]
  },
  {
   "cell_type": "code",
   "execution_count": 2,
   "metadata": {
    "id": "8IqiGp3PW0Li"
   },
   "outputs": [],
   "source": [
    "import os\n",
    "import cv2\n",
    "import torch\n",
    "import numpy as np\n",
    "import random\n",
    "from torch.utils.data import Dataset, DataLoader, random_split\n",
    "from torchvision import transforms\n",
    "from PIL import Image\n",
    "import torch.nn as nn\n",
    "import torch.optim as optim\n",
    "from tqdm import tqdm"
   ]
  },
  {
   "cell_type": "markdown",
   "metadata": {
    "id": "iXIh4jJT1rtC"
   },
   "source": [
    "# Data prepairing and preprocessing"
   ]
  },
  {
   "cell_type": "markdown",
   "metadata": {
    "id": "P534T3qu15Xp"
   },
   "source": [
    "## Data Object"
   ]
  },
  {
   "cell_type": "code",
   "execution_count": 3,
   "metadata": {
    "id": "L-Z38Bc-Wwbn"
   },
   "outputs": [],
   "source": [
    "# Video Dataset Definition\n",
    "\n",
    "class VideoDataset(Dataset):\n",
    "    def __init__(self, root_dir, num_frames=16, train=True):\n",
    "        self.root_dir = root_dir\n",
    "        self.classes = os.listdir(root_dir)\n",
    "        self.videos = []\n",
    "        self.num_frames = num_frames\n",
    "        self.train = train\n",
    "\n",
    "        classes = sorted(os.listdir(root_dir))\n",
    "        self.class_to_idx = {cls_name: idx for idx, cls_name in enumerate(classes)}\n",
    "\n",
    "\n",
    "        for label, class_name in enumerate(self.classes):\n",
    "            class_path = os.path.join(root_dir, class_name)\n",
    "            for file in os.listdir(class_path):\n",
    "                if file.endswith(('.mp4', '.avi', '.mov')):\n",
    "                    self.videos.append({\n",
    "                        'path': os.path.join(class_path, file),\n",
    "                        'label': label\n",
    "                    })\n",
    "\n",
    "    def __len__(self):\n",
    "        return len(self.videos)\n",
    "\n",
    "    def read_video(self, path):\n",
    "        cap = cv2.VideoCapture(path)\n",
    "        frames = []\n",
    "        while True:\n",
    "            ret, frame = cap.read()\n",
    "            if not ret:\n",
    "                break\n",
    "            frame = cv2.cvtColor(frame, cv2.COLOR_BGR2RGB)\n",
    "            frames.append(frame)\n",
    "        cap.release()\n",
    "        return frames\n",
    "\n",
    "    def sample_frames(self, frames):\n",
    "        total = len(frames)\n",
    "        if total == 0:\n",
    "            return None\n",
    "        indices = np.linspace(0, total - 1, self.num_frames, dtype=int)\n",
    "        return [frames[i] for i in indices]\n",
    "\n",
    "    def get_transform(self):\n",
    "        \"\"\"Different for train vs validation.\"\"\"\n",
    "        base = [\n",
    "            transforms.Resize((256, 256)),\n",
    "            transforms.ToTensor(),\n",
    "            transforms.Normalize(mean=[0.5, 0.5, 0.5],\n",
    "                                 std=[0.5, 0.5, 0.5])\n",
    "        ]\n",
    "\n",
    "        if not self.train:\n",
    "            return transforms.Compose(base)\n",
    "\n",
    "        # training augmentation (one per video)\n",
    "        augmentations = [\n",
    "            transforms.RandomHorizontalFlip(p=1.0),\n",
    "            transforms.ColorJitter(brightness=0.3),\n",
    "            transforms.ColorJitter(contrast=0.3),\n",
    "            transforms.RandomRotation(degrees=10),\n",
    "            None\n",
    "        ]\n",
    "        aug = random.choice(augmentations)\n",
    "        if aug is not None:\n",
    "            return transforms.Compose([aug] + base)\n",
    "        return transforms.Compose(base)\n",
    "\n",
    "    def __getitem__(self, idx):\n",
    "        video_info = self.videos[idx]\n",
    "        frames = self.read_video(video_info['path'])\n",
    "        frames = self.sample_frames(frames)\n",
    "        transform = self.get_transform()\n",
    "\n",
    "        frames = [transform(Image.fromarray(f)) for f in frames]\n",
    "        video_tensor = torch.stack(frames)  # [T, C, H, W]\n",
    "        label = torch.tensor(video_info['label'])\n",
    "        return video_tensor, label\n"
   ]
  },
  {
   "cell_type": "markdown",
   "metadata": {
    "id": "0n2QAwyh1z5u"
   },
   "source": []
  },
  {
   "cell_type": "markdown",
   "metadata": {
    "id": "kQfzxfvK18Ze"
   },
   "source": [
    "## Splitting & Building the data loader"
   ]
  },
  {
   "cell_type": "code",
   "execution_count": 4,
   "metadata": {
    "colab": {
     "base_uri": "https://localhost:8080/"
    },
    "id": "AZDVaiQOb4eA",
    "outputId": "5eeadf93-6b48-43d3-aa18-f07108ccf80b"
   },
   "outputs": [
    {
     "name": "stdout",
     "output_type": "stream",
     "text": [
      "Train: 481 | Val: 121\n"
     ]
    }
   ],
   "source": [
    "#  Dataset Split (Train / Val)\n",
    "full_dataset = VideoDataset(root_dir=\"/content/drive/MyDrive/project/Shop DataSet\", num_frames=16, train=True)\n",
    "train_size = int(0.8 * len(full_dataset))\n",
    "val_size = len(full_dataset) - train_size\n",
    "\n",
    "train_dataset, val_dataset = random_split(full_dataset, [train_size, val_size])\n",
    "\n",
    "# Mark validation dataset as non-augmented\n",
    "val_dataset.dataset.train = False\n",
    "\n",
    "train_loader = DataLoader(train_dataset, batch_size=4, shuffle=True, num_workers=2)\n",
    "val_loader = DataLoader(val_dataset, batch_size=4, shuffle=False, num_workers=2)\n",
    "\n",
    "print(f\"Train: {len(train_dataset)} | Val: {len(val_dataset)}\")\n"
   ]
  },
  {
   "cell_type": "code",
   "execution_count": 5,
   "metadata": {
    "colab": {
     "base_uri": "https://localhost:8080/"
    },
    "id": "ghxYq6t6hsVs",
    "outputId": "a10b82c4-36ad-4947-c32d-2763c8309b01"
   },
   "outputs": [
    {
     "name": "stdout",
     "output_type": "stream",
     "text": [
      "{'non shop lifters': 0, 'shop lifters': 1}\n"
     ]
    }
   ],
   "source": [
    "print(full_dataset.class_to_idx)"
   ]
  },
  {
   "cell_type": "markdown",
   "metadata": {
    "id": "zxJInAXV1paW"
   },
   "source": [
    "## visualizing augmented videos"
   ]
  },
  {
   "cell_type": "code",
   "execution_count": null,
   "metadata": {
    "id": "1zY1j3FUd-Hh"
   },
   "outputs": [],
   "source": [
    "# import os\n",
    "# import cv2\n",
    "# import torch\n",
    "# import numpy as np\n",
    "# from IPython.display import HTML, display\n",
    "# from base64 import b64encode\n",
    "\n",
    "# def show_video_clip(video_tensor, label, fps=10):\n",
    "#     \"\"\"\n",
    "#     Display a video tensor inline (supports both (T, C, H, W) and (C, T, H, W))\n",
    "#     \"\"\"\n",
    "#     # Ensure it's detached from GPU\n",
    "#     video_tensor = video_tensor.detach().cpu()\n",
    "\n",
    "#     # Handle different tensor shapes\n",
    "#     if video_tensor.shape[0] == 3:  # (C, T, H, W)\n",
    "#         video_tensor = video_tensor.permute(1, 2, 3, 0)  # -> (T, H, W, C)\n",
    "#     elif video_tensor.shape[-1] != 3:  # (T, C, H, W)\n",
    "#         video_tensor = video_tensor.permute(0, 2, 3, 1)  # -> (T, H, W, C)\n",
    "\n",
    "#     # Denormalize (if normalized between -1 and 1)\n",
    "#     video_tensor = (video_tensor * 0.5 + 0.5).clamp(0, 1)\n",
    "\n",
    "#     # Convert to NumPy uint8\n",
    "#     video_np = (video_tensor.numpy() * 255).astype(np.uint8)\n",
    "\n",
    "#     # Save temporary mp4\n",
    "#     temp_path = \"/content/drive/MyDrive/project/temp_video.mp4\"\n",
    "#     out = cv2.VideoWriter(temp_path, cv2.VideoWriter_fourcc(*'mp4v'), fps, (video_np.shape[2], video_np.shape[1]))\n",
    "\n",
    "#     for frame in video_np:\n",
    "#         if frame.shape[-1] == 1:  # grayscale\n",
    "#             frame = np.repeat(frame, 3, axis=-1)\n",
    "#         out.write(cv2.cvtColor(frame, cv2.COLOR_RGB2BGR))\n",
    "#     out.release()\n",
    "\n",
    "#     # Convert to HTML video\n",
    "#     mp4 = open(temp_path, 'rb').read()\n",
    "#     data_url = \"data:video/mp4;base64,\" + b64encode(mp4).decode()\n",
    "\n",
    "#     display(HTML(f\"\"\"\n",
    "#     <video width=\"480\" height=\"360\" controls>\n",
    "#         <source src=\"{data_url}\" type=\"video/mp4\">\n",
    "#     </video>\n",
    "#     <p><b>Label:</b> {'Shoplifter' if label == 1 else 'Non-Shoplifter'}</p>\n",
    "#     \"\"\"))\n",
    "\n",
    "\n",
    "# def preview_videos(dataloader, num_videos=2):\n",
    "#     \"\"\"\n",
    "#     Preview a few video samples inline as playable videos.\n",
    "#     \"\"\"\n",
    "#     data_iter = iter(dataloader)\n",
    "#     videos, labels = next(data_iter)\n",
    "\n",
    "#     for i in range(min(num_videos, len(videos))):\n",
    "#         show_video_clip(videos[i], labels[i].item(), fps=2)\n"
   ]
  },
  {
   "cell_type": "code",
   "execution_count": null,
   "metadata": {
    "id": "tmHWVQvhd_xk"
   },
   "outputs": [],
   "source": [
    "# preview_videos(train_loader, 2)"
   ]
  },
  {
   "cell_type": "markdown",
   "metadata": {
    "id": "ISWMDOSx1JPG"
   },
   "source": [
    "# CNN + GRU"
   ]
  },
  {
   "cell_type": "markdown",
   "metadata": {
    "id": "aU2vge4H1RY_"
   },
   "source": [
    "## Model building"
   ]
  },
  {
   "cell_type": "code",
   "execution_count": 6,
   "metadata": {
    "id": "BvL_uDOic8m9"
   },
   "outputs": [],
   "source": [
    "class CNNGRU(nn.Module):\n",
    "    def __init__(self,hidden_size = 256, num_layers = 1):\n",
    "        super(CNNGRU, self).__init__()\n",
    "\n",
    "        self.cnn = nn.Sequential(\n",
    "            nn.Conv2d(3, 32, 3, padding=1),\n",
    "            nn.ReLU(),\n",
    "            nn.MaxPool2d(2),\n",
    "            nn.Conv2d(32, 64, 3, padding=1),\n",
    "            nn.ReLU(),\n",
    "            nn.MaxPool2d(2),\n",
    "            nn.AdaptiveAvgPool2d((4, 4))\n",
    "        )\n",
    "\n",
    "        self.gru = nn.GRU(\n",
    "            input_size=64 * 4 * 4,   # flattened CNN feature per frame\n",
    "            hidden_size=hidden_size,\n",
    "            num_layers=num_layers,\n",
    "            batch_first=True,\n",
    "            bidirectional=True\n",
    "        )\n",
    "        self.fc = nn.Linear(hidden_size * 2, 1)\n",
    "\n",
    "    def forward(self, x):\n",
    "        # x: [B, T, C, H, W]\n",
    "        batch_size, seq_len, C, H, W = x.size()\n",
    "        cnn_out = []\n",
    "        for t in range(seq_len):\n",
    "            frame_feat = self.cnn(x[:, t])\n",
    "            frame_feat = frame_feat.view(batch_size, -1)\n",
    "            cnn_out.append(frame_feat)\n",
    "        cnn_out = torch.stack(cnn_out, dim=1)  # [B, T, features]\n",
    "        gru_out, _ = self.gru(cnn_out)\n",
    "        out = self.fc(gru_out[:, -1, :])\n",
    "        return out.squeeze(1)"
   ]
  },
  {
   "cell_type": "markdown",
   "metadata": {
    "id": "ohuT_tTR1YAl"
   },
   "source": [
    "## Training loop function"
   ]
  },
  {
   "cell_type": "code",
   "execution_count": 7,
   "metadata": {
    "colab": {
     "base_uri": "https://localhost:8080/"
    },
    "id": "MRmZpBvEUC7a",
    "outputId": "284cd321-a950-4147-a3b3-45892a18f9fc"
   },
   "outputs": [
    {
     "name": "stdout",
     "output_type": "stream",
     "text": [
      "cuda\n"
     ]
    }
   ],
   "source": [
    "device = torch.device(\"cuda\" if torch.cuda.is_available() else \"cpu\")\n",
    "print(device)"
   ]
  },
  {
   "cell_type": "code",
   "execution_count": 9,
   "metadata": {
    "id": "r1ARJ2JMg0-m"
   },
   "outputs": [],
   "source": [
    "# Training Loop\n",
    "model = CNNGRU()\n",
    "criterion = nn.BCEWithLogitsLoss()\n",
    "optimizer = optim.Adam(model.parameters(), lr=1e-3)\n",
    "num_epochs = 5\n",
    "model.to(device)\n",
    "def train_model(\n",
    "    model,\n",
    "    train_loader,\n",
    "    val_loader,\n",
    "    criterion,\n",
    "    optimizer,\n",
    "    num_epochs,\n",
    "    checkpoint_path=\"/content/drive/MyDrive/project/Checkpoints/best_CNN_GRU_model.pth\"\n",
    "):\n",
    "    best_val_loss = float(\"inf\")\n",
    "\n",
    "\n",
    "    history = {\n",
    "        \"train_loss\": [],\n",
    "        \"val_loss\": [],\n",
    "        \"train_acc\": [],\n",
    "        \"val_acc\": []\n",
    "    }\n",
    "    for epoch in range(num_epochs):\n",
    "        print(f\"\\nEpoch {epoch+1}/{num_epochs}\")\n",
    "        print(\"-\" * 30)\n",
    "\n",
    "        # ---- TRAIN ----\n",
    "        model.train()\n",
    "        running_loss = 0.0\n",
    "        running_corrects = 0\n",
    "\n",
    "        for videos, labels in train_loader:\n",
    "            videos = videos.to(device)\n",
    "            labels = labels.float().to(device)\n",
    "            optimizer.zero_grad()\n",
    "            outputs = model(videos)\n",
    "            loss = criterion(outputs, labels)\n",
    "\n",
    "            preds = (torch.sigmoid(outputs) > 0.5).long()\n",
    "            running_corrects += torch.sum(preds == labels.long())\n",
    "            running_loss += loss.item() * videos.size(0)\n",
    "\n",
    "            loss.backward()\n",
    "            optimizer.step()\n",
    "\n",
    "        epoch_loss = running_loss / len(train_loader.dataset)\n",
    "        epoch_acc = running_corrects.double() / len(train_loader.dataset)\n",
    "\n",
    "        print(f\"Train Loss: {epoch_loss:.4f}  Acc: {epoch_acc:.4f}\")\n",
    "\n",
    "        # ---- VALIDATION ----\n",
    "        model.eval()\n",
    "        val_loss = 0.0\n",
    "        val_corrects = 0\n",
    "\n",
    "        with torch.no_grad():\n",
    "            for videos, labels in val_loader:\n",
    "                labels = labels.float().to(device)\n",
    "                videos = videos.to(device)\n",
    "\n",
    "                outputs = model(videos)\n",
    "                loss = criterion(outputs, labels)\n",
    "\n",
    "                preds = (torch.sigmoid(outputs) > 0.5).long()\n",
    "                val_corrects += torch.sum(preds == labels.long())\n",
    "                val_loss += loss.item() * videos.size(0)\n",
    "\n",
    "        val_loss /= len(val_loader.dataset)\n",
    "        val_acc = val_corrects.double() / len(val_loader.dataset)\n",
    "\n",
    "        # ---- STORE RESULTS ----\n",
    "        history[\"train_loss\"].append(epoch_loss)\n",
    "        history[\"val_loss\"].append(val_loss)\n",
    "        history[\"train_acc\"].append(epoch_acc.item())\n",
    "        history[\"val_acc\"].append(val_acc.item())\n",
    "\n",
    "        print(f\"Train Loss: {epoch_loss:.4f} | Acc: {epoch_acc:.4f}\")\n",
    "        print(f\"Val   Loss: {val_loss:.4f} | Acc: {val_acc:.4f}\")\n",
    "        # ---- SAVE CHECKPOINT ----\n",
    "        if val_loss < best_val_loss:\n",
    "            best_val_loss = val_loss\n",
    "            os.makedirs(os.path.dirname(checkpoint_path), exist_ok=True)\n",
    "            torch.save(model.state_dict(), checkpoint_path)\n",
    "            print(f\"✅ Best model updated and saved at: {checkpoint_path}\")\n",
    "\n",
    "    print(\"\\nTraining complete.\")\n",
    "    print(f\"Lowest Val Loss: {best_val_loss:.4f}\")\n",
    "    return model, history\n"
   ]
  },
  {
   "cell_type": "markdown",
   "metadata": {
    "id": "CTWuxZ-b1kzZ"
   },
   "source": [
    "## Training"
   ]
  },
  {
   "cell_type": "code",
   "execution_count": 10,
   "metadata": {
    "colab": {
     "base_uri": "https://localhost:8080/"
    },
    "collapsed": true,
    "id": "l_ym0RjaozyY",
    "jupyter": {
     "outputs_hidden": true
    },
    "outputId": "8b82fcbc-5ec6-4344-a5c3-3f64e5a55a1a"
   },
   "outputs": [
    {
     "name": "stdout",
     "output_type": "stream",
     "text": [
      "\n",
      "Epoch 1/5\n",
      "------------------------------\n",
      "Train Loss: 0.6979  Acc: 0.5468\n",
      "Train Loss: 0.6979 | Acc: 0.5468\n",
      "Val   Loss: 0.6997 | Acc: 0.4545\n",
      "✅ Best model updated and saved at: /content/drive/MyDrive/project/Checkpoints/best_CNN_GRU_model.pth\n",
      "\n",
      "Epoch 2/5\n",
      "------------------------------\n",
      "Train Loss: 0.6883  Acc: 0.5593\n",
      "Train Loss: 0.6883 | Acc: 0.5593\n",
      "Val   Loss: 0.6986 | Acc: 0.4545\n",
      "✅ Best model updated and saved at: /content/drive/MyDrive/project/Checkpoints/best_CNN_GRU_model.pth\n",
      "\n",
      "Epoch 3/5\n",
      "------------------------------\n",
      "Train Loss: 0.6837  Acc: 0.5593\n",
      "Train Loss: 0.6837 | Acc: 0.5593\n",
      "Val   Loss: 0.7091 | Acc: 0.4545\n",
      "\n",
      "Epoch 4/5\n",
      "------------------------------\n",
      "Train Loss: 0.6506  Acc: 0.6008\n",
      "Train Loss: 0.6506 | Acc: 0.6008\n",
      "Val   Loss: 0.6622 | Acc: 0.5620\n",
      "✅ Best model updated and saved at: /content/drive/MyDrive/project/Checkpoints/best_CNN_GRU_model.pth\n",
      "\n",
      "Epoch 5/5\n",
      "------------------------------\n",
      "Train Loss: 0.6284  Acc: 0.6507\n",
      "Train Loss: 0.6284 | Acc: 0.6507\n",
      "Val   Loss: 0.6084 | Acc: 0.6942\n",
      "✅ Best model updated and saved at: /content/drive/MyDrive/project/Checkpoints/best_CNN_GRU_model.pth\n",
      "\n",
      "Training complete.\n",
      "Lowest Val Loss: 0.6084\n"
     ]
    }
   ],
   "source": [
    "model, history0 = train_model(model, train_loader, val_loader, criterion, optimizer, num_epochs)"
   ]
  },
  {
   "cell_type": "code",
   "execution_count": 11,
   "metadata": {
    "colab": {
     "base_uri": "https://localhost:8080/"
    },
    "id": "IQ5YOsh1844q",
    "outputId": "376dad0f-4f0e-4c89-b646-e0d651edf6b6"
   },
   "outputs": [
    {
     "name": "stdout",
     "output_type": "stream",
     "text": [
      "\n",
      "Epoch 1/5\n",
      "------------------------------\n",
      "Train Loss: 0.6130  Acc: 0.6549\n",
      "Train Loss: 0.6130 | Acc: 0.6549\n",
      "Val   Loss: 0.5998 | Acc: 0.7355\n",
      "✅ Best model updated and saved at: /content/drive/MyDrive/project/Checkpoints/best_CNN_GRU_model.pth\n",
      "\n",
      "Epoch 2/5\n",
      "------------------------------\n",
      "Train Loss: 0.5853  Acc: 0.6965\n",
      "Train Loss: 0.5853 | Acc: 0.6965\n",
      "Val   Loss: 0.5580 | Acc: 0.8182\n",
      "✅ Best model updated and saved at: /content/drive/MyDrive/project/Checkpoints/best_CNN_GRU_model.pth\n",
      "\n",
      "Epoch 3/5\n",
      "------------------------------\n",
      "Train Loss: 0.5607  Acc: 0.7817\n",
      "Train Loss: 0.5607 | Acc: 0.7817\n",
      "Val   Loss: 0.5407 | Acc: 0.7934\n",
      "✅ Best model updated and saved at: /content/drive/MyDrive/project/Checkpoints/best_CNN_GRU_model.pth\n",
      "\n",
      "Epoch 4/5\n",
      "------------------------------\n",
      "Train Loss: 0.5063  Acc: 0.8004\n",
      "Train Loss: 0.5063 | Acc: 0.8004\n",
      "Val   Loss: 0.5032 | Acc: 0.7438\n",
      "✅ Best model updated and saved at: /content/drive/MyDrive/project/Checkpoints/best_CNN_GRU_model.pth\n",
      "\n",
      "Epoch 5/5\n",
      "------------------------------\n",
      "Train Loss: 0.4779  Acc: 0.8233\n",
      "Train Loss: 0.4779 | Acc: 0.8233\n",
      "Val   Loss: 0.4676 | Acc: 0.8017\n",
      "✅ Best model updated and saved at: /content/drive/MyDrive/project/Checkpoints/best_CNN_GRU_model.pth\n",
      "\n",
      "Training complete.\n",
      "Lowest Val Loss: 0.4676\n"
     ]
    }
   ],
   "source": [
    "model, history1 = train_model(model, train_loader, val_loader, criterion, optimizer, num_epochs)"
   ]
  },
  {
   "cell_type": "code",
   "execution_count": 12,
   "metadata": {
    "colab": {
     "base_uri": "https://localhost:8080/"
    },
    "id": "eqo-MKjXpHHs",
    "outputId": "aaa14082-c998-4180-f675-e2152b652d71"
   },
   "outputs": [
    {
     "name": "stdout",
     "output_type": "stream",
     "text": [
      "\n",
      "Epoch 1/5\n",
      "------------------------------\n",
      "Train Loss: 0.4576  Acc: 0.8108\n",
      "Train Loss: 0.4576 | Acc: 0.8108\n",
      "Val   Loss: 0.3835 | Acc: 0.8678\n",
      "✅ Best model updated and saved at: /content/drive/MyDrive/project/Checkpoints/best_CNN_Gru_model2.pth\n",
      "\n",
      "Epoch 2/5\n",
      "------------------------------\n",
      "Train Loss: 0.3877  Acc: 0.8628\n",
      "Train Loss: 0.3877 | Acc: 0.8628\n",
      "Val   Loss: 0.3282 | Acc: 0.8678\n",
      "✅ Best model updated and saved at: /content/drive/MyDrive/project/Checkpoints/best_CNN_Gru_model2.pth\n",
      "\n",
      "Epoch 3/5\n",
      "------------------------------\n",
      "Train Loss: 0.3487  Acc: 0.8503\n",
      "Train Loss: 0.3487 | Acc: 0.8503\n",
      "Val   Loss: 0.2968 | Acc: 0.8678\n",
      "✅ Best model updated and saved at: /content/drive/MyDrive/project/Checkpoints/best_CNN_Gru_model2.pth\n",
      "\n",
      "Epoch 4/5\n",
      "------------------------------\n",
      "Train Loss: 0.2944  Acc: 0.8898\n",
      "Train Loss: 0.2944 | Acc: 0.8898\n",
      "Val   Loss: 0.2102 | Acc: 0.8926\n",
      "✅ Best model updated and saved at: /content/drive/MyDrive/project/Checkpoints/best_CNN_Gru_model2.pth\n",
      "\n",
      "Epoch 5/5\n",
      "------------------------------\n",
      "Train Loss: 0.2356  Acc: 0.8898\n",
      "Train Loss: 0.2356 | Acc: 0.8898\n",
      "Val   Loss: 0.1391 | Acc: 0.9504\n",
      "✅ Best model updated and saved at: /content/drive/MyDrive/project/Checkpoints/best_CNN_Gru_model2.pth\n",
      "\n",
      "Training complete.\n",
      "Lowest Val Loss: 0.1391\n"
     ]
    }
   ],
   "source": [
    "model, history2 = train_model(model, train_loader, val_loader, criterion, optimizer, num_epochs, checkpoint_path=\"/content/drive/MyDrive/project/Checkpoints/best_CNN_Gru_model2.pth\" )"
   ]
  },
  {
   "cell_type": "code",
   "execution_count": 13,
   "metadata": {
    "colab": {
     "base_uri": "https://localhost:8080/"
    },
    "id": "kkwgblk6bpxz",
    "outputId": "a514b2f8-8ccd-428c-82fa-4d0e3c10ebdc"
   },
   "outputs": [
    {
     "name": "stdout",
     "output_type": "stream",
     "text": [
      "\n",
      "Epoch 1/5\n",
      "------------------------------\n",
      "Train Loss: 0.0911  Acc: 0.9688\n",
      "Train Loss: 0.0911 | Acc: 0.9688\n",
      "Val   Loss: 0.0503 | Acc: 0.9917\n",
      "✅ Best model updated and saved at: /content/drive/MyDrive/project/Checkpoints/best_CNN_LSTM_model3.pth\n",
      "\n",
      "Epoch 2/5\n",
      "------------------------------\n",
      "Train Loss: 0.0488  Acc: 0.9896\n",
      "Train Loss: 0.0488 | Acc: 0.9896\n",
      "Val   Loss: 0.0308 | Acc: 0.9835\n",
      "✅ Best model updated and saved at: /content/drive/MyDrive/project/Checkpoints/best_CNN_LSTM_model3.pth\n",
      "\n",
      "Epoch 3/5\n",
      "------------------------------\n",
      "Train Loss: 0.0484  Acc: 0.9813\n",
      "Train Loss: 0.0484 | Acc: 0.9813\n",
      "Val   Loss: 0.0253 | Acc: 0.9835\n",
      "✅ Best model updated and saved at: /content/drive/MyDrive/project/Checkpoints/best_CNN_LSTM_model3.pth\n",
      "\n",
      "Epoch 4/5\n",
      "------------------------------\n",
      "Train Loss: 0.0379  Acc: 0.9813\n",
      "Train Loss: 0.0379 | Acc: 0.9813\n",
      "Val   Loss: 0.0228 | Acc: 0.9917\n",
      "✅ Best model updated and saved at: /content/drive/MyDrive/project/Checkpoints/best_CNN_LSTM_model3.pth\n",
      "\n",
      "Epoch 5/5\n",
      "------------------------------\n",
      "Train Loss: 0.0264  Acc: 0.9875\n",
      "Train Loss: 0.0264 | Acc: 0.9875\n",
      "Val   Loss: 0.0166 | Acc: 0.9917\n",
      "✅ Best model updated and saved at: /content/drive/MyDrive/project/Checkpoints/best_CNN_LSTM_model3.pth\n",
      "\n",
      "Training complete.\n",
      "Lowest Val Loss: 0.0166\n"
     ]
    }
   ],
   "source": [
    "optimizer = optim.Adam(model.parameters(), lr=1e-4) # lowering the learning rate\n",
    "model, history3 = train_model(model, train_loader, val_loader, criterion, optimizer, num_epochs, checkpoint_path=\"/content/drive/MyDrive/project/Checkpoints/best_CNN_GRU_model3.pth\" )"
   ]
  },
  {
   "cell_type": "markdown",
   "metadata": {
    "id": "K3tNu28xcZj5"
   },
   "source": [
    "# Evaluation"
   ]
  },
  {
   "cell_type": "markdown",
   "metadata": {
    "id": "rUQoQnZbcceE"
   },
   "source": [
    "## Loading best model"
   ]
  },
  {
   "cell_type": "code",
   "execution_count": 14,
   "metadata": {
    "colab": {
     "base_uri": "https://localhost:8080/"
    },
    "id": "MtZz9rBtb5t-",
    "outputId": "5fa0c9c1-8d90-45b9-e259-f9b06681e5dd"
   },
   "outputs": [
    {
     "data": {
      "text/plain": [
       "CNNLSTM(\n",
       "  (cnn): Sequential(\n",
       "    (0): Conv2d(3, 32, kernel_size=(3, 3), stride=(1, 1), padding=(1, 1))\n",
       "    (1): ReLU()\n",
       "    (2): MaxPool2d(kernel_size=2, stride=2, padding=0, dilation=1, ceil_mode=False)\n",
       "    (3): Conv2d(32, 64, kernel_size=(3, 3), stride=(1, 1), padding=(1, 1))\n",
       "    (4): ReLU()\n",
       "    (5): MaxPool2d(kernel_size=2, stride=2, padding=0, dilation=1, ceil_mode=False)\n",
       "    (6): AdaptiveAvgPool2d(output_size=(4, 4))\n",
       "  )\n",
       "  (gru): GRU(1024, 256, batch_first=True, bidirectional=True)\n",
       "  (fc): Linear(in_features=512, out_features=1, bias=True)\n",
       ")"
      ]
     },
     "execution_count": 14,
     "metadata": {},
     "output_type": "execute_result"
    }
   ],
   "source": [
    "best_model = CNNLSTM()\n",
    "best_model.load_state_dict(torch.load(\"/content/drive/MyDrive/project/Checkpoints/best_CNN_GRU_model3.pth\"))\n",
    "best_model.to(device)"
   ]
  },
  {
   "cell_type": "markdown",
   "metadata": {
    "id": "Dpzxw6DRgZ1m"
   },
   "source": [
    "## Evaluation"
   ]
  },
  {
   "cell_type": "code",
   "execution_count": 15,
   "metadata": {
    "colab": {
     "base_uri": "https://localhost:8080/"
    },
    "id": "jFfWdMM1c2Mp",
    "outputId": "6e4721ba-6b18-4811-99a0-6fd606f256a4"
   },
   "outputs": [
    {
     "name": "stdout",
     "output_type": "stream",
     "text": [
      "Validation Accuracy: 0.9917\n",
      "Precision: 0.9851\n",
      "Recall: 1.0000\n",
      "F1 Score: 0.9925\n"
     ]
    }
   ],
   "source": [
    "from sklearn.metrics import (\n",
    "    accuracy_score,\n",
    "    precision_score,\n",
    "    recall_score,\n",
    "    f1_score,\n",
    "    confusion_matrix,\n",
    "    classification_report\n",
    ")\n",
    "\n",
    "best_model.eval()\n",
    "\n",
    "all_preds = []\n",
    "all_labels = []\n",
    "\n",
    "with torch.no_grad():\n",
    "    for videos, labels in val_loader:\n",
    "        videos, labels = videos.to(device), labels.to(device)\n",
    "        outputs = model(videos)\n",
    "        preds = (torch.sigmoid(outputs) > 0.5).long()\n",
    "        all_preds.extend(preds.cpu().numpy())\n",
    "        all_labels.extend(labels.cpu().numpy())\n",
    "\n",
    "# 5️⃣ Compute metrics\n",
    "accuracy = accuracy_score(all_labels, all_preds)\n",
    "precision = precision_score(all_labels, all_preds)\n",
    "recall = recall_score(all_labels, all_preds)\n",
    "f1 = f1_score(all_labels, all_preds)\n",
    "\n",
    "print(f\"Validation Accuracy: {accuracy:.4f}\")\n",
    "print(f\"Precision: {precision:.4f}\")\n",
    "print(f\"Recall: {recall:.4f}\")\n",
    "print(f\"F1 Score: {f1:.4f}\")"
   ]
  },
  {
   "cell_type": "code",
   "execution_count": 16,
   "metadata": {
    "colab": {
     "base_uri": "https://localhost:8080/"
    },
    "id": "uU6_-RoNc6l9",
    "outputId": "c06d3420-2491-457a-d566-ad884720b5ba"
   },
   "outputs": [
    {
     "name": "stdout",
     "output_type": "stream",
     "text": [
      "Confusion Matrix:\n",
      "[[54  1]\n",
      " [ 0 66]]\n",
      "\n",
      "Classification Report:\n",
      "                 precision    recall  f1-score   support\n",
      "\n",
      "Non-Shoplifting       1.00      0.98      0.99        55\n",
      "    Shoplifting       0.99      1.00      0.99        66\n",
      "\n",
      "       accuracy                           0.99       121\n",
      "      macro avg       0.99      0.99      0.99       121\n",
      "   weighted avg       0.99      0.99      0.99       121\n",
      "\n"
     ]
    }
   ],
   "source": [
    "# 1️⃣ Confusion matrix\n",
    "cm = confusion_matrix(all_labels, all_preds)\n",
    "print(\"Confusion Matrix:\")\n",
    "print(cm)\n",
    "\n",
    "# 2️⃣ Classification report (precision, recall, f1-score)\n",
    "report = classification_report(all_labels, all_preds, target_names=[\"Non-Shoplifting\", \"Shoplifting\"])\n",
    "print(\"\\nClassification Report:\")\n",
    "print(report)"
   ]
  },
  {
   "cell_type": "markdown",
   "metadata": {
    "id": "DhBVXJLrghR_"
   },
   "source": [
    "## plotting history"
   ]
  },
  {
   "cell_type": "code",
   "execution_count": 17,
   "metadata": {
    "colab": {
     "base_uri": "https://localhost:8080/",
     "height": 473
    },
    "id": "_q-0bSIperPb",
    "outputId": "492f63e1-fdae-45b5-a35b-8520cd3223c7"
   },
   "outputs": [
    {
     "data": {
      "image/png": "[encoded data removed]",
      "text/plain": [
       "<Figure size 1400x600 with 2 Axes>"
      ]
     },
     "metadata": {},
     "output_type": "display_data"
    }
   ],
   "source": [
    "import matplotlib.pyplot as plt\n",
    "\n",
    "def plot_history(histories, labels):\n",
    "    \"\"\"\n",
    "    histories: list of history dictionaries\n",
    "    labels: list of labels for each history (e.g., [\"run1\", \"run2\", \"run3\"])\n",
    "    \"\"\"\n",
    "    plt.figure(figsize=(14, 6))\n",
    "\n",
    "    # ----- Plot Loss -----\n",
    "    plt.subplot(1, 2, 1)\n",
    "    for history, label in zip(histories, labels):\n",
    "        plt.plot(history[\"train_loss\"], marker='o', label=f\"{label} Train Loss\")\n",
    "        plt.plot(history[\"val_loss\"], marker='x', label=f\"{label} Val Loss\")\n",
    "    plt.title(\"Training and Validation Loss\")\n",
    "    plt.xlabel(\"Epoch\")\n",
    "    plt.ylabel(\"Loss\")\n",
    "    plt.legend()\n",
    "    plt.grid(True)\n",
    "\n",
    "    # ----- Plot Accuracy -----\n",
    "    plt.subplot(1, 2, 2)\n",
    "    for history, label in zip(histories, labels):\n",
    "        plt.plot(history[\"train_acc\"], marker='o', label=f\"{label} Train Acc\")\n",
    "        plt.plot(history[\"val_acc\"], marker='x', label=f\"{label} Val Acc\")\n",
    "    plt.title(\"Training and Validation Accuracy\")\n",
    "    plt.xlabel(\"Epoch\")\n",
    "    plt.ylabel(\"Accuracy\")\n",
    "    plt.legend()\n",
    "    plt.grid(True)\n",
    "\n",
    "    plt.tight_layout()\n",
    "    plt.show()\n",
    "\n",
    "\n",
    "# Example usage:\n",
    "plot_history([history0, history1, history2, history3], [\"Run1\", \"Run2\", \"Run3\", \"Run4\"])"
   ]
  },
  {
   "cell_type": "code",
   "execution_count": null,
   "metadata": {
    "id": "PokXTSwIf0uR"
   },
   "outputs": [],
   "source": []
  }
 ],
 "metadata": {
  "accelerator": "GPU",
  "colab": {
   "collapsed_sections": [
    "zxJInAXV1paW"
   ],
   "gpuType": "T4",
   "provenance": []
  },
  "kernelspec": {
   "display_name": "Python 3 (ipykernel)",
   "language": "python",
   "name": "python3"
  },
  "language_info": {
   "codemirror_mode": {
    "name": "ipython",
    "version": 3
   },
   "file_extension": ".py",
   "mimetype": "text/x-python",
   "name": "python",
   "nbconvert_exporter": "python",
   "pygments_lexer": "ipython3",
   "version": "3.10.16"
  }
 },
 "nbformat": 4,
 "nbformat_minor": 4
}
